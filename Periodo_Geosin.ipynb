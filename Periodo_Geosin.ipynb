{
 "cells": [
  {
   "cell_type": "markdown",
   "metadata": {},
   "source": [
    "Codigo empleado para calcular la altura de un sátelite geosincrónico conociendo su periodo.\n",
    "A partir de la seguna ley de Newton y la ley de Gravitacion universal podemos encontrar una expresion que relacione los parametros concernientes.\n",
    "\n",
    "La ecuación matematica que hace posible este calculo es:\n",
    "\\begin{equation}\n",
    "h=\\sqrt[3]{\\frac{T^{2}GM}{4\\pi^{2}}}-R\n",
    "\\end{equation}\n"
   ]
  },
  {
   "cell_type": "code",
   "execution_count": 34,
   "metadata": {},
   "outputs": [
    {
     "name": "stdout",
     "output_type": "stream",
     "text": [
      "Valor del periodo en segundos:86148\n",
      "35812538.32165902 m\n"
     ]
    }
   ],
   "source": [
    "G=6.67e-11\n",
    "T=float(input(\"Valor del periodo en segundos:\"))\n",
    "M=5.98e24\n",
    "R=6370e3\n",
    "h=(((((T**2)*(G*M)))/(4*3.14**2))**(1/3))-R\n",
    "print(h,\"m\")"
   ]
  },
  {
   "cell_type": "markdown",
   "metadata": {},
   "source": [
    "Con la ayuda del anterior codigo fue posible encontrar las siguientes estimaciones.\n",
    "\n",
    "Aproximacion de la altura para periodo de un dia geosincrónico: 35894 km\n",
    "\n",
    "Aproximacion de la altura para un periodo de 90 min: 286 km\n",
    "\n",
    "Aproximacion de la altura para un periodo de 45 min: -217 km\n",
    "\n",
    "Aproximacion de la altura para un periodo de un dia sideral: 35812 km\n"
   ]
  },
  {
   "cell_type": "code",
   "execution_count": null,
   "metadata": {},
   "outputs": [],
   "source": []
  }
 ],
 "metadata": {
  "kernelspec": {
   "display_name": "Python 3",
   "language": "python",
   "name": "python3"
  },
  "language_info": {
   "codemirror_mode": {
    "name": "ipython",
    "version": 3
   },
   "file_extension": ".py",
   "mimetype": "text/x-python",
   "name": "python",
   "nbconvert_exporter": "python",
   "pygments_lexer": "ipython3",
   "version": "3.5.2"
  }
 },
 "nbformat": 4,
 "nbformat_minor": 2
}
